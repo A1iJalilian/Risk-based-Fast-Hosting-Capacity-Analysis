{
 "cells": [
  {
   "cell_type": "code",
   "execution_count": null,
   "id": "bbf550e7",
   "metadata": {},
   "outputs": [
    {
     "data": {
      "text/plain": [
       "plot_network (generic function with 1 method)"
      ]
     },
     "metadata": {},
     "output_type": "display_data"
    }
   ],
   "source": [
    "using PowerModelsDistribution\n",
    "using XLSX\n",
    "using DataFrames\n",
    "using Plots\n",
    "using NBInclude\n",
    "@nbinclude(\"reduce_size.ipynb\")\n",
    "@nbinclude(\"plot_network.ipynb\")\n",
    "\n",
    "struct power_network\n",
    "    name\n",
    "    load_data_dir\n",
    "    pv_data_dir\n",
    "    network_data_dir\n",
    "    orig_eng\n",
    "    eng\n",
    "    load_profiles\n",
    "    pv_profile\n",
    "\n",
    "    function power_network(name::String)\n",
    "        load_data_dir = joinpath(name, \"Load_Profiles.xlsx\")\n",
    "        sheet_name = \"Sheet1\" \n",
    "        load_profiles = XLSX.readtable(load_data_dir, sheet_name) |> DataFrame\n",
    "\n",
    "        pv_data_dir = joinpath(name, \"PV_Profile.xlsx\")\n",
    "        sheet_name = \"Sheet1\" \n",
    "        pv_profile = XLSX.readtable(pv_data_dir, sheet_name) |> DataFrame\n",
    "\n",
    "        network_data_dir = joinpath(name, \"feeder.dss\")\n",
    "        eng = parse_file(network_data_dir)\n",
    "        reduced_eng = deepcopy(eng)\n",
    "        reduce_size(reduced_eng)\n",
    "\n",
    "        return new(name, load_data_dir, pv_data_dir, network_data_dir, eng, reduced_eng, load_profiles, pv_profile)\n",
    "    end\n",
    "end\n",
    "\n",
    "\n",
    "function plot_load_profiles!(pn::power_network; subplot::Union{Int, Nothing} = nothing)\n",
    "    load_profiles = pn.load_profiles\n",
    "    loads = 1:size(load_profiles, 2)\n",
    "    \n",
    "    for load in loads\n",
    "        if subplot !== nothing\n",
    "            # Plot in the specified subplot\n",
    "            plot!(subplot = subplot, load_profiles[:, load], label = \"\")\n",
    "        else\n",
    "            # Create a new standalone plot\n",
    "            plot!(load_profiles[:, load], label = \"\")\n",
    "        end\n",
    "    end\n",
    "\n",
    "    if subplot !== nothing\n",
    "        xlabel!(subplot = subplot, \"Time\")\n",
    "        ylabel!(subplot = subplot, \"Power (kW)\")\n",
    "        title!(subplot = subplot, \"Load profile of customers\")\n",
    "    else\n",
    "        xlabel!(\"Time\")\n",
    "        ylabel!(\"Power (kW)\")\n",
    "        title!(\"Load profile of customers\")\n",
    "    end\n",
    "end\n",
    "\n",
    "\n",
    "function plot_reduced_and_original(pn::power_network)\n",
    "    eng = pn.orig_eng\n",
    "    reduced_eng = pn.eng\n",
    "\n",
    "    p = Plots.plot([0.0, 10.0, 9.0, 9.0, 10.0],[0.0, 0.0, -0.7, 0.7, 0.0], linewidth=10, lc=:black, grid=false, showaxis=false, label=false, ylims=(-10,10))\n",
    "    annotate!(p, 5, 3, (\"Reduction\",\"Times\"), valign=:center, halign=:center)\n",
    "\n",
    "    layout = @layout([a{0.4w} b{0.2w} c{0.4w}])\n",
    "    p_comb = Plots.plot(plot_network(eng), p, plot_network(reduced_eng), layout=layout, size=(800, 300))\n",
    "    display(p_comb)\n",
    "end"
   ]
  }
 ],
 "metadata": {
  "kernelspec": {
   "display_name": "Julia 1.9.3",
   "language": "julia",
   "name": "julia-1.9"
  },
  "language_info": {
   "file_extension": ".jl",
   "mimetype": "application/julia",
   "name": "julia",
   "version": "1.9.3"
  }
 },
 "nbformat": 4,
 "nbformat_minor": 5
}
