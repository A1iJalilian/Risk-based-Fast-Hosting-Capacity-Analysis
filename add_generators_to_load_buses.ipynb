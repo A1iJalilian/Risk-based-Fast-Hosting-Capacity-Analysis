{
 "cells": [
  {
   "cell_type": "code",
   "execution_count": 4,
   "id": "14e7ff6b",
   "metadata": {},
   "outputs": [
    {
     "data": {
      "text/plain": [
       "add_generators_to_load_buses! (generic function with 5 methods)"
      ]
     },
     "metadata": {},
     "output_type": "display_data"
    }
   ],
   "source": [
    "function add_generators_to_load_buses!(eng, pg_lb=-10, pg_ub=10, qg_lb=-10, qg_ub=10)\n",
    "    load_ids = keys(eng[\"load\"])\n",
    "    num_loads = length(load_ids)\n",
    "\n",
    "    # Ensure inputs are vectors of appropriate length if they are scalars\n",
    "    pg_lb_vec = typeof(pg_lb) <: Number ? fill(pg_lb, num_loads) : pg_lb\n",
    "    pg_ub_vec = typeof(pg_ub) <: Number ? fill(pg_ub, num_loads) : pg_ub\n",
    "    qg_lb_vec = typeof(qg_lb) <: Number ? fill(qg_lb, num_loads) : qg_lb\n",
    "    qg_ub_vec = typeof(qg_ub) <: Number ? fill(qg_ub, num_loads) : qg_ub\n",
    "\n",
    "    for (i, load_id) in enumerate(load_ids)\n",
    "        load = eng[\"load\"][load_id]\n",
    "        bus_id = load[\"bus\"]\n",
    "        connections = load[\"connections\"]\n",
    "        if !isempty(connections)\n",
    "            gen_id = \"gen_$bus_id\"\n",
    "            num_connections = length(connections)\n",
    "\n",
    "            # Fill the parameters for each connection\n",
    "            pg_lb_filled = fill(pg_lb_vec[i], num_connections)\n",
    "            pg_ub_filled = fill(pg_ub_vec[i], num_connections)\n",
    "            qg_lb_filled = fill(qg_lb_vec[i], num_connections)\n",
    "            qg_ub_filled = fill(qg_ub_vec[i], num_connections)\n",
    "\n",
    "            # Add generator to the \"eng\"\n",
    "            add_generator!(eng, gen_id, bus_id, connections;\n",
    "                           pg_lb=pg_lb_filled,\n",
    "                           pg_ub=pg_ub_filled,\n",
    "                           qg_lb=qg_lb_filled,\n",
    "                           qg_ub=qg_ub_filled,\n",
    "                           cost_pg_model=2, cost_pg_parameters=[0.0, 1.0, 0.0])\n",
    "        end\n",
    "    end\n",
    "end\n"
   ]
  }
 ],
 "metadata": {
  "kernelspec": {
   "display_name": "Julia 1.9.3",
   "language": "julia",
   "name": "julia-1.9"
  },
  "language_info": {
   "file_extension": ".jl",
   "mimetype": "application/julia",
   "name": "julia",
   "version": "1.9.3"
  }
 },
 "nbformat": 4,
 "nbformat_minor": 5
}
